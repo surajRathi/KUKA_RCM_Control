{
 "cells": [
  {
   "cell_type": "code",
   "execution_count": 30,
   "metadata": {
    "collapsed": true
   },
   "outputs": [
    {
     "name": "stdout",
     "output_type": "stream",
     "text": [
      "IPython console for SymPy 1.11.1 (Python 3.8.2-64-bit) (ground types: python)\n",
      "\n",
      "These commands were executed:\n",
      ">>> from sympy import *\n",
      ">>> x, y, z, t = symbols('x y z t')\n",
      ">>> k, m, n = symbols('k m n', integer=True)\n",
      ">>> f, g, h = symbols('f g h', cls=Function)\n",
      ">>> init_printing()\n",
      "\n",
      "Documentation can be found at https://docs.sympy.org/1.11.1/\n",
      "\n"
     ]
    }
   ],
   "source": [
    "from sympy import init_session\n",
    "from sympy import *\n",
    "init_session()"
   ]
  },
  {
   "cell_type": "code",
   "execution_count": 39,
   "outputs": [],
   "source": [
    "R, r, t, l1, l2 = symbols('R r t l_1 l_2', rational=True, positive=True)\n",
    "vals = {R: 5, r: 4, t: 2, l1:50, l2:100}"
   ],
   "metadata": {
    "collapsed": false
   }
  },
  {
   "cell_type": "code",
   "execution_count": 37,
   "outputs": [],
   "source": [
    "a_1 = atan(t/2/R)\n",
    "a_2 = asin(2*r / sqrt(4*R*R + t**2))\n",
    "alpha = a_1 + a_2\n",
    "theta = pi/2 - alpha"
   ],
   "metadata": {
    "collapsed": false
   }
  },
  {
   "cell_type": "code",
   "execution_count": 34,
   "outputs": [],
   "source": [
    "lb = (R- r * csc(alpha))*csc(alpha)"
   ],
   "metadata": {
    "collapsed": false
   }
  },
  {
   "cell_type": "code",
   "execution_count": 41,
   "outputs": [
    {
     "data": {
      "text/plain": "0.572416004952499",
      "image/png": "[encoded data removed]",
      "text/latex": "$\\displaystyle 0.572416004952499$"
     },
     "execution_count": 41,
     "metadata": {},
     "output_type": "execute_result"
    }
   ],
   "source": [
    "N(lb.subs(vals))"
   ],
   "metadata": {
    "collapsed": false
   }
  },
  {
   "cell_type": "code",
   "execution_count": 45,
   "outputs": [
    {
     "data": {
      "text/plain": "27.0188856274357",
      "image/png": "[encoded data removed]",
      "text/latex": "$\\displaystyle 27.0188856274357$"
     },
     "execution_count": 45,
     "metadata": {},
     "output_type": "execute_result"
    }
   ],
   "source": [
    "N(theta.subs(vals) * 180 / pi)"
   ],
   "metadata": {
    "collapsed": false
   }
  },
  {
   "cell_type": "code",
   "execution_count": 42,
   "outputs": [
    {
     "data": {
      "text/plain": "44.5428416541700",
      "image/png": "[encoded data removed]",
      "text/latex": "$\\displaystyle 44.54284165417$"
     },
     "execution_count": 42,
     "metadata": {},
     "output_type": "execute_result"
    }
   ],
   "source": [
    "H = (l2 - l1) * cos(theta)\n",
    "N(H.subs(vals))"
   ],
   "metadata": {
    "collapsed": false
   }
  },
  {
   "cell_type": "code",
   "execution_count": 47,
   "outputs": [],
   "source": [
    "rl1 = (lb + l1) * sin(theta)\n",
    "rl2 = (lb + l1 + l1) * sin(theta)"
   ],
   "metadata": {
    "collapsed": false
   }
  },
  {
   "cell_type": "code",
   "execution_count": 48,
   "outputs": [
    {
     "data": {
      "text/plain": "(22.974247797931, 45.6884560687808)",
      "image/png": "[encoded data removed]",
      "text/latex": "$\\displaystyle \\left( 22.974247797931, \\  45.6884560687808\\right)$"
     },
     "execution_count": 48,
     "metadata": {},
     "output_type": "execute_result"
    }
   ],
   "source": [
    "N(rl1.subs(vals)), N(rl2.subs(vals))"
   ],
   "metadata": {
    "collapsed": false
   }
  },
  {
   "cell_type": "markdown",
   "source": [
    "We will take a Cylinder as the working area, r = rl1 and h = H"
   ],
   "metadata": {
    "collapsed": false
   }
  },
  {
   "cell_type": "code",
   "execution_count": 50,
   "outputs": [
    {
     "data": {
      "text/plain": "⎛                                                                       2     \n⎜               ⎛     ⎛               ⎛   2    2⎞         ⎞            ⎞      \n⎜               ⎜     ⎜             r⋅⎝4⋅R  + t ⎠         ⎟ ⎛   2    2⎞⎟      \n⎜               ⎜     ⎜R - ───────────────────────────────⎟⋅⎝4⋅R  + t ⎠⎟      \n⎜               ⎜     ⎜                 __________________⎟            ⎟      \n⎜               ⎜     ⎜                ╱    2      2    2 ⎟            ⎟  ⎛   \n⎜               ⎜     ⎝    4⋅R⋅r + t⋅╲╱  4⋅R  - 4⋅r  + t  ⎠            ⎟  ⎜   \n⎜-4⋅π⋅(l₁ - l₂)⋅⎜l₁ + ─────────────────────────────────────────────────⎟ ⋅⎝4⋅R\n⎜               ⎜                           __________________         ⎟      \n⎜               ⎜                          ╱    2      2    2          ⎟      \n⎜               ⎝              4⋅R⋅r + t⋅╲╱  4⋅R  - 4⋅r  + t           ⎠      \n⎜─────────────────────────────────────────────────────────────────────────────\n⎜                                                                           3 \n⎜                                                                ⎛   2    2⎞  \n⎝                                                                ⎝4⋅R  + t ⎠  \n\n                                                                              \n                                                                              \n                                                                              \n                                                                              \n                                                             2                \n          __________________⎞ ⎛     __________________      ⎞                 \n         ╱    2      2    2 ⎟ ⎜    ╱    2      2    2       ⎟                 \n⋅r + t⋅╲╱  4⋅R  - 4⋅r  + t  ⎠⋅⎝R⋅╲╱  4⋅R  - 4⋅r  + t   - r⋅t⎠                 \n                                                                              \n                                                                              \n                                                                              \n───────────────────────────────────────────────────────────────, 73860.1855843\n                                                                              \n                                                                              \n                                                                              \n\n   ⎞\n   ⎟\n   ⎟\n   ⎟\n   ⎟\n   ⎟\n   ⎟\n   ⎟\n   ⎟\n   ⎟\n   ⎟\n912⎟\n   ⎟\n   ⎟\n   ⎠",
      "image/png": "[encoded data removed]",
      "text/latex": "$\\displaystyle \\left( - \\frac{4 \\pi \\left(l_{1} - l_{2}\\right) \\left(l_{1} + \\frac{\\left(R - \\frac{r \\left(4 R^{2} + t^{2}\\right)}{4 R r + t \\sqrt{4 R^{2} - 4 r^{2} + t^{2}}}\\right) \\left(4 R^{2} + t^{2}\\right)}{4 R r + t \\sqrt{4 R^{2} - 4 r^{2} + t^{2}}}\\right)^{2} \\cdot \\left(4 R r + t \\sqrt{4 R^{2} - 4 r^{2} + t^{2}}\\right) \\left(R \\sqrt{4 R^{2} - 4 r^{2} + t^{2}} - r t\\right)^{2}}{\\left(4 R^{2} + t^{2}\\right)^{3}}, \\  73860.1855843912\\right)$"
     },
     "execution_count": 50,
     "metadata": {},
     "output_type": "execute_result"
    }
   ],
   "source": [
    "V = pi * rl1 **2 * H"
   ],
   "metadata": {
    "collapsed": false
   }
  },
  {
   "cell_type": "code",
   "execution_count": 54,
   "outputs": [
    {
     "data": {
      "text/plain": "9232",
      "image/png": "[encoded data removed]",
      "text/latex": "$\\displaystyle 9232$"
     },
     "execution_count": 54,
     "metadata": {},
     "output_type": "execute_result"
    }
   ],
   "source": [
    "int(N(V.subs(vals)) / 2**3)"
   ],
   "metadata": {
    "collapsed": false
   }
  },
  {
   "cell_type": "markdown",
   "source": [
    "**Hence, we will have around $10^4$ unit cells.**"
   ],
   "metadata": {
    "collapsed": false
   }
  },
  {
   "cell_type": "code",
   "execution_count": 56,
   "outputs": [
    {
     "data": {
      "text/plain": "22872",
      "image/png": "[encoded data removed]",
      "text/latex": "$\\displaystyle 22872$"
     },
     "execution_count": 56,
     "metadata": {},
     "output_type": "execute_result"
    }
   ],
   "source": [
    "V_cone = pi * (rl1 ** 2 + rl2**2) * H / 2\n",
    "int(N(V_cone.subs(vals)) / 2**3)"
   ],
   "metadata": {
    "collapsed": false
   }
  },
  {
   "cell_type": "markdown",
   "source": [
    "**A circular frustum will give around $2 * 10^4$ unit cells.**"
   ],
   "metadata": {
    "collapsed": false
   }
  },
  {
   "cell_type": "markdown",
   "source": [
    "r = 23 mm\n",
    "res = 2mm\n",
    "\n",
    "if we take a cuboid:\n",
    "l, b, h\n",
    "\n",
    "h = H\n",
    "z0 = insertion_pt.z - H1 - H\n",
    "x0 = 0.0\n",
    "y0 = -0.5\n",
    "\n",
    "s = r / sqrt(2)\n",
    "\n",
    "\n",
    "xmin = x0 - s/2\n",
    "xmax = x0 + s/2\n",
    "n = s/2\n",
    "\n",
    "index = floor(((x-x0) + x_offset) / res)\n",
    "index min = ((-s/2-x0) + s/2) / res = 0\n",
    "index max = ((s/2-x0) + s/2) / res = floor((s-x0)/res)\n",
    "x = s * res - s/2 + x0\n",
    "xmin = x0 - s/2\n",
    "\n",
    "for z:\n",
    "index = floor(((z - z0)) / res)\n",
    "min = floor(((z0 - z0)) / res) = 0\n",
    "max = floor(((z0 + H - z0)) / res) = floor(H / res)\n",
    "\n",
    "\n"
   ],
   "metadata": {
    "collapsed": false
   }
  }
 ],
 "metadata": {
  "kernelspec": {
   "display_name": "Python 3",
   "language": "python",
   "name": "python3"
  },
  "language_info": {
   "codemirror_mode": {
    "name": "ipython",
    "version": 2
   },
   "file_extension": ".py",
   "mimetype": "text/x-python",
   "name": "python",
   "nbconvert_exporter": "python",
   "pygments_lexer": "ipython2",
   "version": "2.7.6"
  }
 },
 "nbformat": 4,
 "nbformat_minor": 0
}
